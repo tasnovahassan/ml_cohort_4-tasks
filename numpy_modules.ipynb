{
 "cells": [
  {
   "cell_type": "code",
   "execution_count": 1,
   "id": "036d32bc-88dc-4505-811a-fa2fabc13778",
   "metadata": {},
   "outputs": [],
   "source": [
    "import numpy as np"
   ]
  },
  {
   "cell_type": "code",
   "execution_count": 2,
   "id": "480a9887-98ce-4109-aa63-ffb8c645171d",
   "metadata": {},
   "outputs": [
    {
     "name": "stdout",
     "output_type": "stream",
     "text": [
      "[1, 2, 3, 4, 5]\n"
     ]
    }
   ],
   "source": [
    "lst = [1,2,3,4,5]\n",
    "print(lst)"
   ]
  },
  {
   "cell_type": "code",
   "execution_count": 5,
   "id": "6d9cb2d7-918f-4fa9-a58f-0744c227a948",
   "metadata": {},
   "outputs": [
    {
     "name": "stdout",
     "output_type": "stream",
     "text": [
      "1D array\n",
      "[1 2 3 4 5]\n",
      "2D array\n",
      "[[ 1  2  3  4  5]\n",
      " [ 6  7  8  9 10]]\n",
      "3D array\n",
      "[[[ 1  2  3  4  5]\n",
      "  [ 6  7  8  9 10]\n",
      "  [11 12 13 14 15]]]\n"
     ]
    }
   ],
   "source": [
    "print ('1D array')\n",
    "a = np.array([1,2,3,4,5])\n",
    "print (a)\n",
    "\n",
    "print ('2D array')\n",
    "b = np.array([[1,2,3,4,5],[6,7,8,9,10]])\n",
    "print (b)\n",
    "\n",
    "print ('3D array')\n",
    "c = np.array([[[1,2,3,4,5],[6,7,8,9,10],[11,12,13,14,15]]])\n",
    "print (c)"
   ]
  },
  {
   "cell_type": "code",
   "execution_count": 6,
   "id": "f16f3988-9d56-457f-91a4-66a0dbaa6d66",
   "metadata": {},
   "outputs": [
    {
     "name": "stdout",
     "output_type": "stream",
     "text": [
      "5\n",
      "10\n",
      "15\n"
     ]
    }
   ],
   "source": [
    "print(a.size)\n",
    "print(b.size)\n",
    "print(c.size)"
   ]
  },
  {
   "cell_type": "code",
   "execution_count": 7,
   "id": "2c0cabc4-1d0c-4f4e-892f-c3102e038874",
   "metadata": {},
   "outputs": [
    {
     "name": "stdout",
     "output_type": "stream",
     "text": [
      "(5,)\n",
      "(2, 5)\n",
      "(1, 3, 5)\n"
     ]
    }
   ],
   "source": [
    "print(a.shape)\n",
    "print(b.shape)\n",
    "print(c.shape)"
   ]
  },
  {
   "cell_type": "code",
   "execution_count": 8,
   "id": "117b6606-512c-4447-84e3-53fb9a0b591c",
   "metadata": {},
   "outputs": [
    {
     "name": "stdout",
     "output_type": "stream",
     "text": [
      "int64\n"
     ]
    }
   ],
   "source": [
    "print(c.dtype)"
   ]
  },
  {
   "cell_type": "code",
   "execution_count": 9,
   "id": "e5c155b6-4798-4b48-be9d-69ac8157d9c2",
   "metadata": {},
   "outputs": [
    {
     "name": "stdout",
     "output_type": "stream",
     "text": [
      "Original matrix\n",
      " [[ 1  2  3  4  5]\n",
      " [ 6  7  8  9 10]]\n",
      "\n",
      "Transposed matrix :\n",
      " [[ 1  6]\n",
      " [ 2  7]\n",
      " [ 3  8]\n",
      " [ 4  9]\n",
      " [ 5 10]]\n",
      "\n",
      "Transposed matrix2 :\n",
      " [[ 1  6]\n",
      " [ 2  7]\n",
      " [ 3  8]\n",
      " [ 4  9]\n",
      " [ 5 10]]\n"
     ]
    }
   ],
   "source": [
    "import numpy as np\n",
    "matrix = np.array([[1,2,3,4,5],[6,7,8,9,10]])\n",
    "transpose_mat = np.transpose(matrix)\n",
    "transpose_mat2 = matrix.T\n",
    "print(\"Original matrix\\n\", matrix)\n",
    "print(\"\\nTransposed matrix :\\n\",transpose_mat) \n",
    "print(\"\\nTransposed matrix2 :\\n\",transpose_mat2) "
   ]
  },
  {
   "cell_type": "code",
   "execution_count": 10,
   "id": "600a44a7-3546-4eba-8115-d5c710d1cd42",
   "metadata": {},
   "outputs": [
    {
     "name": "stdout",
     "output_type": "stream",
     "text": [
      "[ 2  4  6  8 10]\n"
     ]
    }
   ],
   "source": [
    "a = np.array([1,2,3,4,5])\n",
    "b = np.array([1,2,3,4,5])\n",
    "c = a+b\n",
    "print(c)"
   ]
  },
  {
   "cell_type": "code",
   "execution_count": null,
   "id": "4e3f9bad-3ce2-4250-8e74-6b3529832f8d",
   "metadata": {},
   "outputs": [],
   "source": []
  }
 ],
 "metadata": {
  "kernelspec": {
   "display_name": "Python 3 (ipykernel)",
   "language": "python",
   "name": "python3"
  },
  "language_info": {
   "codemirror_mode": {
    "name": "ipython",
    "version": 3
   },
   "file_extension": ".py",
   "mimetype": "text/x-python",
   "name": "python",
   "nbconvert_exporter": "python",
   "pygments_lexer": "ipython3",
   "version": "3.13.5"
  }
 },
 "nbformat": 4,
 "nbformat_minor": 5
}
